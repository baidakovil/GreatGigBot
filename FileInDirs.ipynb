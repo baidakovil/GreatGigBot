{
 "cells": [
  {
   "cell_type": "code",
   "execution_count": 8,
   "id": "91f303e1",
   "metadata": {},
   "outputs": [
    {
     "name": "stdout",
     "output_type": "stream",
     "text": [
      "cache/ivanshello_page_1 event page found in cache..            <link rel=\"stylesheet\" href=\"/static/styles/build/app-reduced-c79ea41123.c6e78e82a2a8.css\" data-stylesheet-name=\"app\" charset=\"utf-8\">\n"
     ]
    }
   ],
   "source": [
    "lastfmUser='ivanshello'\n",
    "pageNum = 1\n",
    "pageId = 'cache/{}_page_{}'.format(lastfmUser,pageNum)\n",
    "cacheFileName = pageId + '.html'  \n",
    "cacheHandle = open(cacheFileName, 'r', encoding=\"utf-8\")\n",
    "htmlText = cacheHandle.read()\n",
    "htmlList = htmlText.splitlines()\n",
    "print( pageId + ' event page found in cache..',end='')\n",
    "cacheHandle.close()\n",
    "\n",
    "print (htmlList[105])"
   ]
  }
 ],
 "metadata": {
  "kernelspec": {
   "display_name": "Python 3",
   "language": "python",
   "name": "python3"
  },
  "language_info": {
   "codemirror_mode": {
    "name": "ipython",
    "version": 3
   },
   "file_extension": ".py",
   "mimetype": "text/x-python",
   "name": "python",
   "nbconvert_exporter": "python",
   "pygments_lexer": "ipython3",
   "version": "3.8.8"
  }
 },
 "nbformat": 4,
 "nbformat_minor": 5
}
