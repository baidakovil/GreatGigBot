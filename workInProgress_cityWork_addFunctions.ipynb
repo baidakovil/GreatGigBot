{
 "cells": [
  {
   "cell_type": "code",
   "execution_count": 2,
   "id": "861488e7",
   "metadata": {},
   "outputs": [],
   "source": [
    "def writeData(mode, id, data):\n",
    "    if mode == 'addSentEvents':\n",
    "        if not data.empty:\n",
    "            data.loc[:, 'eventnumber'] = ''\n",
    "        prevSentEvents = readData(mode='sentEvents', id=id)\n",
    "        if not prevSentEvents.empty:\n",
    "            today = pd.to_datetime(date.today())\n",
    "            eventTimes = pd.to_datetime(prevSentEvents.loc[:, 'eventtime'])\n",
    "            oldEvents = prevSentEvents[eventTimes < today].index\n",
    "            prevSentEvents.drop(labels=oldEvents, inplace=True)\n",
    "            print(f'{len(oldEvents)} events was deleted. ', end='')\n",
    "        # print(f'type oldevents: {type(data)}, type prevSentEvents: {type(prevSentEvents)}')\n",
    "        sentEvents = prevSentEvents.append(data)  # copy=false?\n",
    "        sentEvents.reset_index(drop=True, inplace=True)\n",
    "        dataFilename = 'data/' + id + '_ggb_sentEvents.csv'\n",
    "        fileHandle = open(dataFilename, 'w', encoding=\"utf-8\")\n",
    "        sentEvents.to_csv(path_or_buf=fileHandle, sep='\\t', line_terminator='\\n')\n",
    "    elif mode == 'lastEvents':\n",
    "        dataFilename = 'data/' + id + '_ggb_lastEvents.csv'\n",
    "        fileHandle = open(dataFilename, 'w', encoding=\"utf-8\")\n",
    "        data.to_csv(path_or_buf=fileHandle, sep='\\t', line_terminator='\\n')\n",
    "    elif mode == 'settings':\n",
    "        dataFilename = 'data/' + id + '_ggb_settings.csv'\n",
    "        fileHandle = open(dataFilename, 'w', encoding=\"utf-8\")\n",
    "        fileHandle.write(data)\n",
    "    else:\n",
    "        print(f'{mode} is wrong mode for writing')\n",
    "    fileHandle.close()\n",
    "    print(f'{mode} is written to: ', dataFilename)\n",
    "\n",
    "\n",
    "def readData(mode, id):\n",
    "    if mode in ['lastEvents', 'sentEvents']:\n",
    "        try:\n",
    "            if mode == 'lastEvents':\n",
    "                dataFilename = 'data/' + id + '_ggb_lastEvents.csv'\n",
    "            elif mode == 'sentEvents':\n",
    "                dataFilename = 'data/' + id + '_ggb_sentEvents.csv'\n",
    "            fileHandle = open(dataFilename, 'r', encoding=\"utf-8\")\n",
    "            data = pd.read_csv(filepath_or_buffer=fileHandle, sep='\\t', lineterminator='\\n', index_col=0)\n",
    "            fileHandle.close()\n",
    "            print(f'{mode} data was read from: {dataFilename}')\n",
    "        except FileNotFoundError:\n",
    "            data = pd.DataFrame([], columns=['eventnumber', 'eventid', 'eventartist',\n",
    "                                             'eventtime', 'eventvenue', 'eventcity', 'eventcountry'])\n",
    "            print(f'{mode} data not found. Empty DF created')\n",
    "    elif mode == 'settings':\n",
    "        dataFilename = 'data/' + id + '_ggb_settings.csv'\n",
    "        fileHandle = open(dataFilename, 'r', encoding=\"utf-8\")\n",
    "        settings = fileHandle.read()\n",
    "        data = dict() if settings == '' else eval(settings)\n",
    "        fileHandle.close()\n",
    "        print(f'{mode} data was read from: {dataFilename}')\n",
    "    else:\n",
    "        print(f'{mode} is wrong mode for writing')\n",
    "    return data\n",
    "\n",
    "\n",
    "def readSett(listOf, id):\n",
    "    data = []\n",
    "    settList = {'lastfmUser', 'timeDelay', 'minListens', 'places'}\n",
    "    if len(set(listOf).intersection(settList)):\n",
    "        settings = readData('settings', id)\n",
    "    for sett in listOf:\n",
    "        if sett in settList:\n",
    "            data.append(settings[sett])\n",
    "        elif sett in ('sentEvents', 'lastEvents'):\n",
    "            data.append(readData(sett, id))\n",
    "    return tuple(data)\n",
    "\n",
    "\n",
    "def writeSett(id, sett, value):\n",
    "    settings = readData('settings', id)\n",
    "    settings[sett] = value\n",
    "    writeData(mode='settings', id=id, data=str(settings))"
   ]
  },
  {
   "cell_type": "code",
   "execution_count": 37,
   "id": "aef88f8b",
   "metadata": {},
   "outputs": [],
   "source": [
    "def addCountry(countryAnswer, userId):\n",
    "    fileHandle = open('data/cities/worldcities/WorldCountryList.csv', 'r', encoding=\"utf-8\")\n",
    "    data = pd.read_csv(filepath_or_buffer=fileHandle, sep='\\t', lineterminator='\\n',index_col=0)\n",
    "    try:\n",
    "        mask = np.column_stack([data[col] == countryAnswer.strip().lower() for col in data])\n",
    "        addedCountry = data.loc[mask].iat[0, 0]\n",
    "        places = readSett(['places'], userId)[0]\n",
    "        if places == ():\n",
    "            places = dict()\n",
    "        places[addedCountry] = []\n",
    "        writeSett(userId, 'places', places)\n",
    "    except IndexError:\n",
    "        addedCountry = False\n",
    "    fileHandle.close()\n",
    "    return addedCountry\n",
    "\n",
    "def addCity(cityAnswer, country, userId):\n",
    "    fileHandle = open('data/RussiaCityList.csv', 'r', encoding=\"utf-8\",)\n",
    "    data = pd.read_csv(filepath_or_buffer=fileHandle, sep='\\t', lineterminator='\\n', index_col=0)\n",
    "    try:\n",
    "        mask = np.column_stack([data[col] == cityAnswer.strip().lower() for col in data])\n",
    "        addedCity = data.loc[mask].iat[0, 0]\n",
    "        places = readSett(['places'], userId)[0]\n",
    "        if addedCity in places[country]:\n",
    "            return addedCity\n",
    "        places[country].append(addedCity)\n",
    "        writeSett(userId, 'places', places)\n",
    "    except IndexError:\n",
    "        addedCity = False\n",
    "    fileHandle.close()\n",
    "    return addedCity"
   ]
  },
  {
   "cell_type": "code",
   "execution_count": 38,
   "id": "45a255cb",
   "metadata": {},
   "outputs": [],
   "source": [
    "import pandas as pd\n",
    "import numpy as np\n",
    "userId = '144297913'\n",
    "countryAnswer = 'russia'"
   ]
  },
  {
   "cell_type": "code",
   "execution_count": 39,
   "id": "003e84f2",
   "metadata": {},
   "outputs": [],
   "source": [
    "addC = addCountry(countryAnswer, userId)"
   ]
  },
  {
   "cell_type": "code",
   "execution_count": 40,
   "id": "e95ab344",
   "metadata": {},
   "outputs": [
    {
     "data": {
      "text/plain": [
       "False"
      ]
     },
     "execution_count": 40,
     "metadata": {},
     "output_type": "execute_result"
    }
   ],
   "source": [
    "addC"
   ]
  },
  {
   "cell_type": "code",
   "execution_count": 42,
   "id": "4fa621e2",
   "metadata": {},
   "outputs": [
    {
     "data": {
      "text/html": [
       "<div>\n",
       "<style scoped>\n",
       "    .dataframe tbody tr th:only-of-type {\n",
       "        vertical-align: middle;\n",
       "    }\n",
       "\n",
       "    .dataframe tbody tr th {\n",
       "        vertical-align: top;\n",
       "    }\n",
       "\n",
       "    .dataframe thead th {\n",
       "        text-align: right;\n",
       "    }\n",
       "</style>\n",
       "<table border=\"1\" class=\"dataframe\">\n",
       "  <thead>\n",
       "    <tr style=\"text-align: right;\">\n",
       "      <th></th>\n",
       "      <th>0</th>\n",
       "    </tr>\n",
       "  </thead>\n",
       "  <tbody>\n",
       "    <tr>\n",
       "      <th>0</th>\n",
       "      <td>['Afghanistan', 'Albania', 'Algeria', 'America...</td>\n",
       "    </tr>\n",
       "  </tbody>\n",
       "</table>\n",
       "</div>"
      ],
      "text/plain": [
       "                                                   0\n",
       "0  ['Afghanistan', 'Albania', 'Algeria', 'America..."
      ]
     },
     "execution_count": 42,
     "metadata": {},
     "output_type": "execute_result"
    }
   ],
   "source": [
    "fileHandle = open('data/cities/worldcities/WorldCountryList.csv', 'r', encoding=\"utf-8\")\n",
    "data = pd.read_csv(filepath_or_buffer=fileHandle, sep='\\t', lineterminator='\\n',index_col=0)\n",
    "data"
   ]
  },
  {
   "cell_type": "code",
   "execution_count": 35,
   "id": "9e94de88",
   "metadata": {},
   "outputs": [
    {
     "data": {
      "text/html": [
       "<div>\n",
       "<style scoped>\n",
       "    .dataframe tbody tr th:only-of-type {\n",
       "        vertical-align: middle;\n",
       "    }\n",
       "\n",
       "    .dataframe tbody tr th {\n",
       "        vertical-align: top;\n",
       "    }\n",
       "\n",
       "    .dataframe thead th {\n",
       "        text-align: right;\n",
       "    }\n",
       "</style>\n",
       "<table border=\"1\" class=\"dataframe\">\n",
       "  <thead>\n",
       "    <tr style=\"text-align: right;\">\n",
       "      <th></th>\n",
       "      <th>country_orig</th>\n",
       "      <th>country0</th>\n",
       "      <th>country1</th>\n",
       "      <th>country2</th>\n",
       "      <th>country3</th>\n",
       "      <th>country4</th>\n",
       "    </tr>\n",
       "  </thead>\n",
       "  <tbody>\n",
       "    <tr>\n",
       "      <th>169</th>\n",
       "      <td>Russia</td>\n",
       "      <td>russia</td>\n",
       "      <td>russian federation</td>\n",
       "      <td>россия</td>\n",
       "      <td>российская федерация</td>\n",
       "      <td>рф</td>\n",
       "    </tr>\n",
       "  </tbody>\n",
       "</table>\n",
       "</div>"
      ],
      "text/plain": [
       "    country_orig country0            country1 country2              country3  \\\n",
       "169       Russia   russia  russian federation   россия  российская федерация   \n",
       "\n",
       "    country4  \n",
       "169       рф  "
      ]
     },
     "execution_count": 35,
     "metadata": {},
     "output_type": "execute_result"
    }
   ],
   "source": [
    "mask = np.column_stack([data[col].str.lower() == countryAnswer.strip().lower() for col in data])\n",
    "addedCountry = data.loc[mask].iat[0, 0]\n",
    "addedCountry"
   ]
  },
  {
   "cell_type": "code",
   "execution_count": null,
   "id": "20fafcaa",
   "metadata": {},
   "outputs": [],
   "source": []
  }
 ],
 "metadata": {
  "kernelspec": {
   "display_name": "Python 3",
   "language": "python",
   "name": "python3"
  },
  "language_info": {
   "codemirror_mode": {
    "name": "ipython",
    "version": 3
   },
   "file_extension": ".py",
   "mimetype": "text/x-python",
   "name": "python",
   "nbconvert_exporter": "python",
   "pygments_lexer": "ipython3",
   "version": "3.8.8"
  }
 },
 "nbformat": 4,
 "nbformat_minor": 5
}
